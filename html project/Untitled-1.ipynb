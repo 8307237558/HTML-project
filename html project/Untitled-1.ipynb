{
 "cells": [
  {
   "cell_type": "code",
   "execution_count": null,
   "metadata": {},
   "outputs": [],
   "source": []
  }
 ],
 "metadata": {
  "kernelspec": {
   "display_name": "Python 3.10.6 64-bit",
   "language": "python",
   "name": "python3"
  },
  "language_info": {
   "name": "python",
   "version": "3.10.6"
  },
  "orig_nbformat": 4,
  "vscode": {
   "interpreter": {
    "hash": "08513e5b6da0cef02df1e75eee1b6204d2d8cee5753bc24c5a14f3ef901d1756"
   }
  }
 },
 "nbformat": 4,
 "nbformat_minor": 2
}
